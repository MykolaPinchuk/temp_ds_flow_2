{
 "cells": [
  {
   "cell_type": "markdown",
   "metadata": {},
   "source": [
    "# 01 Process Data\n",
    "\n",
    "This notebook reads raw data, doubles the 'value' column, and saves the processed data."
   ]
  },
  {
   "cell_type": "code",
   "execution_count": 1,
   "metadata": {
    "execution": {
     "iopub.execute_input": "2025-07-03T22:51:36.859423Z",
     "iopub.status.busy": "2025-07-03T22:51:36.859032Z",
     "iopub.status.idle": "2025-07-03T22:51:37.260216Z",
     "shell.execute_reply": "2025-07-03T22:51:37.259417Z"
    }
   },
   "outputs": [],
   "source": [
    "import sys\n",
    "import os\n",
    "# Add src to path to allow importing ds_logger\n",
    "sys.path.append(os.path.abspath(os.path.join('..', 'src')))\n",
    "import pandas as pd\n",
    "from ds_logger import start_logging, end_logging\n",
    "\n",
    "notebook_description = \"This notebook reads raw data, doubles the 'value' column, and saves the processed data.\"\n",
    "start_logging(notebook_name='01_process_data.ipynb', notebook_description=notebook_description)"
   ]
  },
  {
   "cell_type": "code",
   "execution_count": 2,
   "metadata": {
    "execution": {
     "iopub.execute_input": "2025-07-03T22:51:37.262985Z",
     "iopub.status.busy": "2025-07-03T22:51:37.262702Z",
     "iopub.status.idle": "2025-07-03T22:51:37.281006Z",
     "shell.execute_reply": "2025-07-03T22:51:37.280010Z"
    }
   },
   "outputs": [],
   "source": [
    "# Read raw data\n",
    "raw_data_path = '../data/raw/sample_data.csv'\n",
    "df = pd.read_csv(raw_data_path)\n",
    "\n",
    "# Process data\n",
    "df['value'] = df['value'] * 2\n",
    "\n",
    "# Save processed data\n",
    "processed_data_path = '../data/processed/processed_data.csv'\n",
    "df.to_csv(processed_data_path, index=False)"
   ]
  },
  {
   "cell_type": "code",
   "execution_count": 3,
   "metadata": {
    "execution": {
     "iopub.execute_input": "2025-07-03T22:51:37.285326Z",
     "iopub.status.busy": "2025-07-03T22:51:37.284891Z",
     "iopub.status.idle": "2025-07-03T22:51:37.289625Z",
     "shell.execute_reply": "2025-07-03T22:51:37.289012Z"
    }
   },
   "outputs": [],
   "source": [
    "results = {'processed_rows': len(df), 'status': 'success'}\n",
    "end_logging(results=results)"
   ]
  }
 ],
 "metadata": {
  "kernelspec": {
   "display_name": "Python 3",
   "language": "python",
   "name": "python3"
  },
  "language_info": {
   "codemirror_mode": {
    "name": "ipython",
    "version": 3
   },
   "file_extension": ".py",
   "mimetype": "text/x-python",
   "name": "python",
   "nbconvert_exporter": "python",
   "pygments_lexer": "ipython3",
   "version": "3.11.3"
  }
 },
 "nbformat": 4,
 "nbformat_minor": 4
}

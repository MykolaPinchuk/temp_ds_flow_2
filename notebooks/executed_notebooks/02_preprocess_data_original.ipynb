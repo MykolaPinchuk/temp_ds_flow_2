{
 "cells": [
  {
   "cell_type": "code",
   "execution_count": 1,
   "id": "2a46ec6f",
   "metadata": {
    "execution": {
     "iopub.execute_input": "2025-07-04T22:59:22.678857Z",
     "iopub.status.busy": "2025-07-04T22:59:22.678639Z",
     "iopub.status.idle": "2025-07-04T22:59:22.685215Z",
     "shell.execute_reply": "2025-07-04T22:59:22.684430Z"
    },
    "papermill": {
     "duration": 0.011906,
     "end_time": "2025-07-04T22:59:22.687101",
     "exception": false,
     "start_time": "2025-07-04T22:59:22.675195",
     "status": "completed"
    },
    "tags": [
     "parameters"
    ]
   },
   "outputs": [],
   "source": [
    "dataset_version = 'original'"
   ]
  },
  {
   "cell_type": "code",
   "execution_count": 2,
   "id": "53508a47",
   "metadata": {
    "execution": {
     "iopub.execute_input": "2025-07-04T22:59:22.692853Z",
     "iopub.status.busy": "2025-07-04T22:59:22.692560Z",
     "iopub.status.idle": "2025-07-04T22:59:22.696644Z",
     "shell.execute_reply": "2025-07-04T22:59:22.695683Z"
    },
    "papermill": {
     "duration": 0.009232,
     "end_time": "2025-07-04T22:59:22.698446",
     "exception": false,
     "start_time": "2025-07-04T22:59:22.689214",
     "status": "completed"
    },
    "tags": [
     "injected-parameters"
    ]
   },
   "outputs": [],
   "source": [
    "# Parameters\n",
    "dataset_version = \"original\"\n"
   ]
  },
  {
   "cell_type": "code",
   "execution_count": 3,
   "id": "9fc09741",
   "metadata": {
    "execution": {
     "iopub.execute_input": "2025-07-04T22:59:22.705204Z",
     "iopub.status.busy": "2025-07-04T22:59:22.704779Z",
     "iopub.status.idle": "2025-07-04T22:59:23.382372Z",
     "shell.execute_reply": "2025-07-04T22:59:23.381649Z"
    },
    "papermill": {
     "duration": 0.68325,
     "end_time": "2025-07-04T22:59:23.383980",
     "exception": false,
     "start_time": "2025-07-04T22:59:22.700730",
     "status": "completed"
    },
    "tags": []
   },
   "outputs": [],
   "source": [
    "import os\n",
    "import sys\n",
    "import pandas as pd\n",
    "\n",
    "sys.path.append(os.path.abspath(os.path.join('..', 'src')))\n",
    "from ds_logger import start_logging, end_logging"
   ]
  },
  {
   "cell_type": "code",
   "execution_count": 4,
   "id": "ee3f0526",
   "metadata": {
    "execution": {
     "iopub.execute_input": "2025-07-04T22:59:23.388841Z",
     "iopub.status.busy": "2025-07-04T22:59:23.388508Z",
     "iopub.status.idle": "2025-07-04T22:59:23.392675Z",
     "shell.execute_reply": "2025-07-04T22:59:23.391910Z"
    },
    "papermill": {
     "duration": 0.008453,
     "end_time": "2025-07-04T22:59:23.394298",
     "exception": false,
     "start_time": "2025-07-04T22:59:23.385845",
     "status": "completed"
    },
    "tags": []
   },
   "outputs": [],
   "source": [
    "start_logging(notebook_name=f'02_preprocess_data_{dataset_version}.ipynb', notebook_description='Preprocesses the raw Iris data.')"
   ]
  },
  {
   "cell_type": "markdown",
   "id": "77696f6d",
   "metadata": {
    "papermill": {
     "duration": 0.002301,
     "end_time": "2025-07-04T22:59:23.398920",
     "exception": false,
     "start_time": "2025-07-04T22:59:23.396619",
     "status": "completed"
    },
    "tags": []
   },
   "source": [
    "## Load Raw Data"
   ]
  },
  {
   "cell_type": "code",
   "execution_count": 5,
   "id": "71037c8d",
   "metadata": {
    "execution": {
     "iopub.execute_input": "2025-07-04T22:59:23.404827Z",
     "iopub.status.busy": "2025-07-04T22:59:23.404428Z",
     "iopub.status.idle": "2025-07-04T22:59:23.412654Z",
     "shell.execute_reply": "2025-07-04T22:59:23.411742Z"
    },
    "papermill": {
     "duration": 0.013718,
     "end_time": "2025-07-04T22:59:23.414417",
     "exception": false,
     "start_time": "2025-07-04T22:59:23.400699",
     "status": "completed"
    },
    "tags": []
   },
   "outputs": [
    {
     "name": "stdout",
     "output_type": "stream",
     "text": [
      "Loaded ../data/raw/iris_raw_original.csv\n"
     ]
    }
   ],
   "source": [
    "raw_data_path = f'../data/raw/iris_raw_{dataset_version}.csv'\n",
    "df = pd.read_csv(raw_data_path)\n",
    "print(f'Loaded {raw_data_path}')"
   ]
  },
  {
   "cell_type": "markdown",
   "id": "3acc41e2",
   "metadata": {
    "papermill": {
     "duration": 0.002095,
     "end_time": "2025-07-04T22:59:23.418499",
     "exception": false,
     "start_time": "2025-07-04T22:59:23.416404",
     "status": "completed"
    },
    "tags": []
   },
   "source": [
    "## Preprocess Data"
   ]
  },
  {
   "cell_type": "code",
   "execution_count": 6,
   "id": "fcb0d3be",
   "metadata": {
    "execution": {
     "iopub.execute_input": "2025-07-04T22:59:23.423739Z",
     "iopub.status.busy": "2025-07-04T22:59:23.423450Z",
     "iopub.status.idle": "2025-07-04T22:59:23.428397Z",
     "shell.execute_reply": "2025-07-04T22:59:23.427903Z"
    },
    "papermill": {
     "duration": 0.009178,
     "end_time": "2025-07-04T22:59:23.429615",
     "exception": false,
     "start_time": "2025-07-04T22:59:23.420437",
     "status": "completed"
    },
    "tags": []
   },
   "outputs": [
    {
     "name": "stdout",
     "output_type": "stream",
     "text": [
      "Cleaned column names.\n"
     ]
    }
   ],
   "source": [
    "df.columns = df.columns.str.replace(' (cm)', '', regex=False).str.replace(' ', '_')\n",
    "print('Cleaned column names.')"
   ]
  },
  {
   "cell_type": "markdown",
   "id": "9b0d10fb",
   "metadata": {
    "papermill": {
     "duration": 0.001737,
     "end_time": "2025-07-04T22:59:23.433240",
     "exception": false,
     "start_time": "2025-07-04T22:59:23.431503",
     "status": "completed"
    },
    "tags": []
   },
   "source": [
    "## Save Processed Data"
   ]
  },
  {
   "cell_type": "code",
   "execution_count": 7,
   "id": "aae96d78",
   "metadata": {
    "execution": {
     "iopub.execute_input": "2025-07-04T22:59:23.437730Z",
     "iopub.status.busy": "2025-07-04T22:59:23.437530Z",
     "iopub.status.idle": "2025-07-04T22:59:23.442928Z",
     "shell.execute_reply": "2025-07-04T22:59:23.442295Z"
    },
    "papermill": {
     "duration": 0.009221,
     "end_time": "2025-07-04T22:59:23.444198",
     "exception": false,
     "start_time": "2025-07-04T22:59:23.434977",
     "status": "completed"
    },
    "tags": []
   },
   "outputs": [
    {
     "name": "stdout",
     "output_type": "stream",
     "text": [
      "Saved processed data to ../data/processed/iris_processed_original.csv\n"
     ]
    }
   ],
   "source": [
    "output_path = f'../data/processed/iris_processed_{dataset_version}.csv'\n",
    "df.to_csv(output_path, index=False)\n",
    "print(f'Saved processed data to {output_path}')"
   ]
  },
  {
   "cell_type": "code",
   "execution_count": 8,
   "id": "2098e758",
   "metadata": {
    "execution": {
     "iopub.execute_input": "2025-07-04T22:59:23.448910Z",
     "iopub.status.busy": "2025-07-04T22:59:23.448698Z",
     "iopub.status.idle": "2025-07-04T22:59:23.452043Z",
     "shell.execute_reply": "2025-07-04T22:59:23.451403Z"
    },
    "papermill": {
     "duration": 0.007102,
     "end_time": "2025-07-04T22:59:23.453229",
     "exception": false,
     "start_time": "2025-07-04T22:59:23.446127",
     "status": "completed"
    },
    "tags": []
   },
   "outputs": [],
   "source": [
    "end_logging()"
   ]
  }
 ],
 "metadata": {
  "kernelspec": {
   "display_name": "Python 3",
   "language": "python",
   "name": "python3"
  },
  "language_info": {
   "codemirror_mode": {
    "name": "ipython",
    "version": 3
   },
   "file_extension": ".py",
   "mimetype": "text/x-python",
   "name": "python",
   "nbconvert_exporter": "python",
   "pygments_lexer": "ipython3",
   "version": "3.11.3"
  },
  "papermill": {
   "default_parameters": {},
   "duration": 2.095146,
   "end_time": "2025-07-04T22:59:23.772254",
   "environment_variables": {},
   "exception": null,
   "input_path": "02_preprocess_data.ipynb",
   "output_path": "executed_notebooks/02_preprocess_data_original.ipynb",
   "parameters": {
    "dataset_version": "original"
   },
   "start_time": "2025-07-04T22:59:21.677108",
   "version": "2.6.0"
  }
 },
 "nbformat": 4,
 "nbformat_minor": 5
}
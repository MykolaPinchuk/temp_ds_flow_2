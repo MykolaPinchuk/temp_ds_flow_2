{
 "cells": [
  {
   "cell_type": "markdown",
   "id": "f41049a5",
   "metadata": {
    "papermill": {
     "duration": 0.002986,
     "end_time": "2025-07-04T22:59:19.274386",
     "exception": false,
     "start_time": "2025-07-04T22:59:19.271400",
     "status": "completed"
    },
    "tags": []
   },
   "source": [
    "# 01 Ingest Data\n",
    "This notebook loads the Iris dataset from scikit-learn and saves it as the raw data source. It can be parameterized to generate either the original dataset or a simulated dataset with 50% more data."
   ]
  },
  {
   "cell_type": "code",
   "execution_count": 1,
   "id": "d24cfdb4",
   "metadata": {
    "execution": {
     "iopub.execute_input": "2025-07-04T22:59:19.281200Z",
     "iopub.status.busy": "2025-07-04T22:59:19.280786Z",
     "iopub.status.idle": "2025-07-04T22:59:19.290983Z",
     "shell.execute_reply": "2025-07-04T22:59:19.289972Z"
    },
    "papermill": {
     "duration": 0.016362,
     "end_time": "2025-07-04T22:59:19.293395",
     "exception": false,
     "start_time": "2025-07-04T22:59:19.277033",
     "status": "completed"
    },
    "tags": [
     "parameters"
    ]
   },
   "outputs": [],
   "source": [
    "# Parameters for papermill\n",
    "# This cell is tagged as 'parameters'\n",
    "# Default to 'original' if not provided\n",
    "dataset_version = 'original' # 'original' or 'simulated'"
   ]
  },
  {
   "cell_type": "code",
   "execution_count": 2,
   "id": "1e9dbd86",
   "metadata": {
    "execution": {
     "iopub.execute_input": "2025-07-04T22:59:19.300663Z",
     "iopub.status.busy": "2025-07-04T22:59:19.300182Z",
     "iopub.status.idle": "2025-07-04T22:59:19.306157Z",
     "shell.execute_reply": "2025-07-04T22:59:19.304955Z"
    },
    "papermill": {
     "duration": 0.013147,
     "end_time": "2025-07-04T22:59:19.308971",
     "exception": false,
     "start_time": "2025-07-04T22:59:19.295824",
     "status": "completed"
    },
    "tags": [
     "injected-parameters"
    ]
   },
   "outputs": [],
   "source": [
    "# Parameters\n",
    "dataset_version = \"original\"\n"
   ]
  },
  {
   "cell_type": "code",
   "execution_count": 3,
   "id": "c641005a",
   "metadata": {
    "execution": {
     "iopub.execute_input": "2025-07-04T22:59:19.317767Z",
     "iopub.status.busy": "2025-07-04T22:59:19.316601Z",
     "iopub.status.idle": "2025-07-04T22:59:20.295568Z",
     "shell.execute_reply": "2025-07-04T22:59:20.294937Z"
    },
    "papermill": {
     "duration": 0.985391,
     "end_time": "2025-07-04T22:59:20.297118",
     "exception": false,
     "start_time": "2025-07-04T22:59:19.311727",
     "status": "completed"
    },
    "tags": []
   },
   "outputs": [],
   "source": [
    "import sys\n",
    "import os\n",
    "sys.path.append(os.path.abspath(os.path.join('..', 'src')))\n",
    "import pandas as pd\n",
    "from sklearn.datasets import load_iris\n",
    "from ds_logger import start_logging, end_logging\n",
    "\n",
    "notebook_description = f\"Loads the {dataset_version} Iris dataset and saves it to the raw data directory.\"\n",
    "start_logging(notebook_name=f'01_ingest_data_{dataset_version}.ipynb', notebook_description=notebook_description)"
   ]
  },
  {
   "cell_type": "code",
   "execution_count": 4,
   "id": "b5b93a1c",
   "metadata": {
    "execution": {
     "iopub.execute_input": "2025-07-04T22:59:20.301194Z",
     "iopub.status.busy": "2025-07-04T22:59:20.300904Z",
     "iopub.status.idle": "2025-07-04T22:59:20.311981Z",
     "shell.execute_reply": "2025-07-04T22:59:20.311207Z"
    },
    "papermill": {
     "duration": 0.01624,
     "end_time": "2025-07-04T22:59:20.314755",
     "exception": false,
     "start_time": "2025-07-04T22:59:20.298515",
     "status": "completed"
    },
    "tags": []
   },
   "outputs": [],
   "source": [
    "# Load Iris dataset\n",
    "iris = load_iris()\n",
    "original_df = pd.DataFrame(data=iris.data, columns=iris.feature_names)\n",
    "original_df['target'] = iris.target\n",
    "\n",
    "if dataset_version == 'simulated':\n",
    "    # Simulate receiving 50% more data by sampling from the original data\n",
    "    new_samples_count = int(len(original_df) * 0.5)\n",
    "    new_samples_df = original_df.sample(n=new_samples_count, replace=True, random_state=42)\n",
    "    df = pd.concat([original_df, new_samples_df], ignore_index=True)\n",
    "    raw_data_path = '../data/raw/iris_raw_simulated.csv'\n",
    "else: # 'original'\n",
    "    df = original_df\n",
    "    raw_data_path = '../data/raw/iris_raw_original.csv'\n",
    "\n",
    "# Save raw data\n",
    "df.to_csv(raw_data_path, index=False)"
   ]
  },
  {
   "cell_type": "code",
   "execution_count": 5,
   "id": "d22df611",
   "metadata": {
    "execution": {
     "iopub.execute_input": "2025-07-04T22:59:20.319639Z",
     "iopub.status.busy": "2025-07-04T22:59:20.319389Z",
     "iopub.status.idle": "2025-07-04T22:59:20.323147Z",
     "shell.execute_reply": "2025-07-04T22:59:20.322609Z"
    },
    "papermill": {
     "duration": 0.007702,
     "end_time": "2025-07-04T22:59:20.324276",
     "exception": false,
     "start_time": "2025-07-04T22:59:20.316574",
     "status": "completed"
    },
    "tags": []
   },
   "outputs": [],
   "source": [
    "end_logging(results={'rows_ingested': len(df), 'dataset_version': dataset_version})"
   ]
  }
 ],
 "metadata": {
  "kernelspec": {
   "display_name": "base",
   "language": "python",
   "name": "python3"
  },
  "language_info": {
   "codemirror_mode": {
    "name": "ipython",
    "version": 3
   },
   "file_extension": ".py",
   "mimetype": "text/x-python",
   "name": "python",
   "nbconvert_exporter": "python",
   "pygments_lexer": "ipython3",
   "version": "3.11.3"
  },
  "papermill": {
   "default_parameters": {},
   "duration": 2.347753,
   "end_time": "2025-07-04T22:59:20.742965",
   "environment_variables": {},
   "exception": null,
   "input_path": "01_ingest_data.ipynb",
   "output_path": "executed_notebooks/01_ingest_data_original.ipynb",
   "parameters": {
    "dataset_version": "original"
   },
   "start_time": "2025-07-04T22:59:18.395212",
   "version": "2.6.0"
  }
 },
 "nbformat": 4,
 "nbformat_minor": 5
}
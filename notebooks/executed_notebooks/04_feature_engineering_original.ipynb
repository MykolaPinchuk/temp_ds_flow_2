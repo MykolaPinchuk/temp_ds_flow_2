{
 "cells": [
  {
   "cell_type": "markdown",
   "id": "cbc3ed95",
   "metadata": {
    "tags": [
     "papermill-error-cell-tag"
    ]
   },
   "source": [
    "<span style=\"color:red; font-family:Helvetica Neue, Helvetica, Arial, sans-serif; font-size:2em;\">An Exception was encountered at '<a href=\"#papermill-error-cell\">In [6]</a>'.</span>"
   ]
  },
  {
   "cell_type": "code",
   "execution_count": 1,
   "id": "f28aec8e",
   "metadata": {
    "execution": {
     "iopub.execute_input": "2025-07-04T22:59:25.678159Z",
     "iopub.status.busy": "2025-07-04T22:59:25.677892Z",
     "iopub.status.idle": "2025-07-04T22:59:25.685725Z",
     "shell.execute_reply": "2025-07-04T22:59:25.685122Z"
    },
    "papermill": {
     "duration": 0.013004,
     "end_time": "2025-07-04T22:59:25.687544",
     "exception": false,
     "start_time": "2025-07-04T22:59:25.674540",
     "status": "completed"
    },
    "tags": [
     "parameters"
    ]
   },
   "outputs": [],
   "source": [
    "dataset_version = \"original\""
   ]
  },
  {
   "cell_type": "code",
   "execution_count": 2,
   "id": "885689aa",
   "metadata": {
    "execution": {
     "iopub.execute_input": "2025-07-04T22:59:25.695191Z",
     "iopub.status.busy": "2025-07-04T22:59:25.693933Z",
     "iopub.status.idle": "2025-07-04T22:59:25.698829Z",
     "shell.execute_reply": "2025-07-04T22:59:25.698274Z"
    },
    "papermill": {
     "duration": 0.01056,
     "end_time": "2025-07-04T22:59:25.700458",
     "exception": false,
     "start_time": "2025-07-04T22:59:25.689898",
     "status": "completed"
    },
    "tags": [
     "injected-parameters"
    ]
   },
   "outputs": [],
   "source": [
    "# Parameters\n",
    "dataset_version = \"original\"\n"
   ]
  },
  {
   "cell_type": "code",
   "execution_count": 3,
   "id": "8a201a9b",
   "metadata": {
    "execution": {
     "iopub.execute_input": "2025-07-04T22:59:25.705871Z",
     "iopub.status.busy": "2025-07-04T22:59:25.705624Z",
     "iopub.status.idle": "2025-07-04T22:59:26.530929Z",
     "shell.execute_reply": "2025-07-04T22:59:26.530153Z"
    },
    "papermill": {
     "duration": 0.829948,
     "end_time": "2025-07-04T22:59:26.532360",
     "exception": false,
     "start_time": "2025-07-04T22:59:25.702412",
     "status": "completed"
    },
    "tags": []
   },
   "outputs": [],
   "source": [
    "import os\n",
    "import sys\n",
    "import pandas as pd\n",
    "\n",
    "sys.path.append(os.path.abspath(os.path.join('..', 'src')))\n",
    "from ds_logger import start_logging, end_logging"
   ]
  },
  {
   "cell_type": "code",
   "execution_count": 4,
   "id": "03f716b8",
   "metadata": {
    "execution": {
     "iopub.execute_input": "2025-07-04T22:59:26.538014Z",
     "iopub.status.busy": "2025-07-04T22:59:26.537140Z",
     "iopub.status.idle": "2025-07-04T22:59:26.541242Z",
     "shell.execute_reply": "2025-07-04T22:59:26.540482Z"
    },
    "papermill": {
     "duration": 0.008645,
     "end_time": "2025-07-04T22:59:26.542947",
     "exception": false,
     "start_time": "2025-07-04T22:59:26.534302",
     "status": "completed"
    },
    "tags": []
   },
   "outputs": [],
   "source": [
    "start_logging(notebook_name=f'04_feature_engineering_{dataset_version}.ipynb', notebook_description='Creates new features from the processed data.')"
   ]
  },
  {
   "cell_type": "markdown",
   "id": "7a7ac9ce",
   "metadata": {
    "papermill": {
     "duration": 0.00304,
     "end_time": "2025-07-04T22:59:26.547999",
     "exception": false,
     "start_time": "2025-07-04T22:59:26.544959",
     "status": "completed"
    },
    "tags": []
   },
   "source": [
    "## Load Processed Data"
   ]
  },
  {
   "cell_type": "code",
   "execution_count": 5,
   "id": "4471acd4",
   "metadata": {
    "execution": {
     "iopub.execute_input": "2025-07-04T22:59:26.555109Z",
     "iopub.status.busy": "2025-07-04T22:59:26.554701Z",
     "iopub.status.idle": "2025-07-04T22:59:26.565251Z",
     "shell.execute_reply": "2025-07-04T22:59:26.561952Z"
    },
    "papermill": {
     "duration": 0.016394,
     "end_time": "2025-07-04T22:59:26.566878",
     "exception": false,
     "start_time": "2025-07-04T22:59:26.550484",
     "status": "completed"
    },
    "tags": []
   },
   "outputs": [
    {
     "name": "stdout",
     "output_type": "stream",
     "text": [
      "Loaded ../data/processed/iris_processed_original.csv\n"
     ]
    }
   ],
   "source": [
    "processed_data_path = f'../data/processed/iris_processed_{dataset_version}.csv'\n",
    "df = pd.read_csv(processed_data_path)\n",
    "print(f'Loaded {processed_data_path}')"
   ]
  },
  {
   "cell_type": "markdown",
   "id": "f7778db6",
   "metadata": {
    "papermill": {
     "duration": 0.001798,
     "end_time": "2025-07-04T22:59:26.570658",
     "exception": false,
     "start_time": "2025-07-04T22:59:26.568860",
     "status": "completed"
    },
    "tags": []
   },
   "source": [
    "## Feature Engineering"
   ]
  },
  {
   "cell_type": "markdown",
   "id": "3816fd41",
   "metadata": {
    "tags": [
     "papermill-error-cell-tag"
    ]
   },
   "source": [
    "<span id=\"papermill-error-cell\" style=\"color:red; font-family:Helvetica Neue, Helvetica, Arial, sans-serif; font-size:2em;\">Execution using papermill encountered an exception here and stopped:</span>"
   ]
  },
  {
   "cell_type": "code",
   "execution_count": 6,
   "id": "f7efae3b",
   "metadata": {
    "execution": {
     "iopub.execute_input": "2025-07-04T22:59:26.575352Z",
     "iopub.status.busy": "2025-07-04T22:59:26.575131Z",
     "iopub.status.idle": "2025-07-04T22:59:27.273634Z",
     "shell.execute_reply": "2025-07-04T22:59:27.272773Z"
    },
    "papermill": {
     "duration": 0.702443,
     "end_time": "2025-07-04T22:59:27.274965",
     "exception": true,
     "start_time": "2025-07-04T22:59:26.572522",
     "status": "failed"
    },
    "tags": []
   },
   "outputs": [
    {
     "ename": "KeyError",
     "evalue": "'sepal_length_cm'",
     "output_type": "error",
     "traceback": [
      "\u001b[0;31m---------------------------------------------------------------------------\u001b[0m",
      "\u001b[0;31mKeyError\u001b[0m                                  Traceback (most recent call last)",
      "File \u001b[0;32m~/anaconda3/lib/python3.11/site-packages/pandas/core/indexes/base.py:3653\u001b[0m, in \u001b[0;36mIndex.get_loc\u001b[0;34m(self, key)\u001b[0m\n\u001b[1;32m   3652\u001b[0m \u001b[38;5;28;01mtry\u001b[39;00m:\n\u001b[0;32m-> 3653\u001b[0m     \u001b[38;5;28;01mreturn\u001b[39;00m \u001b[38;5;28;43mself\u001b[39;49m\u001b[38;5;241;43m.\u001b[39;49m\u001b[43m_engine\u001b[49m\u001b[38;5;241;43m.\u001b[39;49m\u001b[43mget_loc\u001b[49m\u001b[43m(\u001b[49m\u001b[43mcasted_key\u001b[49m\u001b[43m)\u001b[49m\n\u001b[1;32m   3654\u001b[0m \u001b[38;5;28;01mexcept\u001b[39;00m \u001b[38;5;167;01mKeyError\u001b[39;00m \u001b[38;5;28;01mas\u001b[39;00m err:\n",
      "File \u001b[0;32m~/anaconda3/lib/python3.11/site-packages/pandas/_libs/index.pyx:147\u001b[0m, in \u001b[0;36mpandas._libs.index.IndexEngine.get_loc\u001b[0;34m()\u001b[0m\n",
      "File \u001b[0;32m~/anaconda3/lib/python3.11/site-packages/pandas/_libs/index.pyx:176\u001b[0m, in \u001b[0;36mpandas._libs.index.IndexEngine.get_loc\u001b[0;34m()\u001b[0m\n",
      "File \u001b[0;32mpandas/_libs/hashtable_class_helper.pxi:7080\u001b[0m, in \u001b[0;36mpandas._libs.hashtable.PyObjectHashTable.get_item\u001b[0;34m()\u001b[0m\n",
      "File \u001b[0;32mpandas/_libs/hashtable_class_helper.pxi:7088\u001b[0m, in \u001b[0;36mpandas._libs.hashtable.PyObjectHashTable.get_item\u001b[0;34m()\u001b[0m\n",
      "\u001b[0;31mKeyError\u001b[0m: 'sepal_length_cm'",
      "\nThe above exception was the direct cause of the following exception:\n",
      "\u001b[0;31mKeyError\u001b[0m                                  Traceback (most recent call last)",
      "Cell \u001b[0;32mIn[6], line 1\u001b[0m\n\u001b[0;32m----> 1\u001b[0m df[\u001b[38;5;124m'\u001b[39m\u001b[38;5;124msepal_area\u001b[39m\u001b[38;5;124m'\u001b[39m] \u001b[38;5;241m=\u001b[39m \u001b[43mdf\u001b[49m\u001b[43m[\u001b[49m\u001b[38;5;124;43m'\u001b[39;49m\u001b[38;5;124;43msepal_length_cm\u001b[39;49m\u001b[38;5;124;43m'\u001b[39;49m\u001b[43m]\u001b[49m \u001b[38;5;241m*\u001b[39m df[\u001b[38;5;124m'\u001b[39m\u001b[38;5;124msepal_width_cm\u001b[39m\u001b[38;5;124m'\u001b[39m]\n\u001b[1;32m      2\u001b[0m \u001b[38;5;28mprint\u001b[39m(\u001b[38;5;124m'\u001b[39m\u001b[38;5;124mCreated sepal_area feature.\u001b[39m\u001b[38;5;124m'\u001b[39m)\n",
      "File \u001b[0;32m~/anaconda3/lib/python3.11/site-packages/pandas/core/frame.py:3761\u001b[0m, in \u001b[0;36mDataFrame.__getitem__\u001b[0;34m(self, key)\u001b[0m\n\u001b[1;32m   3759\u001b[0m \u001b[38;5;28;01mif\u001b[39;00m \u001b[38;5;28mself\u001b[39m\u001b[38;5;241m.\u001b[39mcolumns\u001b[38;5;241m.\u001b[39mnlevels \u001b[38;5;241m>\u001b[39m \u001b[38;5;241m1\u001b[39m:\n\u001b[1;32m   3760\u001b[0m     \u001b[38;5;28;01mreturn\u001b[39;00m \u001b[38;5;28mself\u001b[39m\u001b[38;5;241m.\u001b[39m_getitem_multilevel(key)\n\u001b[0;32m-> 3761\u001b[0m indexer \u001b[38;5;241m=\u001b[39m \u001b[38;5;28;43mself\u001b[39;49m\u001b[38;5;241;43m.\u001b[39;49m\u001b[43mcolumns\u001b[49m\u001b[38;5;241;43m.\u001b[39;49m\u001b[43mget_loc\u001b[49m\u001b[43m(\u001b[49m\u001b[43mkey\u001b[49m\u001b[43m)\u001b[49m\n\u001b[1;32m   3762\u001b[0m \u001b[38;5;28;01mif\u001b[39;00m is_integer(indexer):\n\u001b[1;32m   3763\u001b[0m     indexer \u001b[38;5;241m=\u001b[39m [indexer]\n",
      "File \u001b[0;32m~/anaconda3/lib/python3.11/site-packages/pandas/core/indexes/base.py:3655\u001b[0m, in \u001b[0;36mIndex.get_loc\u001b[0;34m(self, key)\u001b[0m\n\u001b[1;32m   3653\u001b[0m     \u001b[38;5;28;01mreturn\u001b[39;00m \u001b[38;5;28mself\u001b[39m\u001b[38;5;241m.\u001b[39m_engine\u001b[38;5;241m.\u001b[39mget_loc(casted_key)\n\u001b[1;32m   3654\u001b[0m \u001b[38;5;28;01mexcept\u001b[39;00m \u001b[38;5;167;01mKeyError\u001b[39;00m \u001b[38;5;28;01mas\u001b[39;00m err:\n\u001b[0;32m-> 3655\u001b[0m     \u001b[38;5;28;01mraise\u001b[39;00m \u001b[38;5;167;01mKeyError\u001b[39;00m(key) \u001b[38;5;28;01mfrom\u001b[39;00m \u001b[38;5;21;01merr\u001b[39;00m\n\u001b[1;32m   3656\u001b[0m \u001b[38;5;28;01mexcept\u001b[39;00m \u001b[38;5;167;01mTypeError\u001b[39;00m:\n\u001b[1;32m   3657\u001b[0m     \u001b[38;5;66;03m# If we have a listlike key, _check_indexing_error will raise\u001b[39;00m\n\u001b[1;32m   3658\u001b[0m     \u001b[38;5;66;03m#  InvalidIndexError. Otherwise we fall through and re-raise\u001b[39;00m\n\u001b[1;32m   3659\u001b[0m     \u001b[38;5;66;03m#  the TypeError.\u001b[39;00m\n\u001b[1;32m   3660\u001b[0m     \u001b[38;5;28mself\u001b[39m\u001b[38;5;241m.\u001b[39m_check_indexing_error(key)\n",
      "\u001b[0;31mKeyError\u001b[0m: 'sepal_length_cm'"
     ]
    }
   ],
   "source": [
    "df['sepal_area'] = df['sepal_length_cm'] * df['sepal_width_cm']\n",
    "print('Created sepal_area feature.')"
   ]
  },
  {
   "cell_type": "markdown",
   "id": "bedf756b",
   "metadata": {
    "papermill": {
     "duration": null,
     "end_time": null,
     "exception": null,
     "start_time": null,
     "status": "pending"
    },
    "tags": []
   },
   "source": [
    "## Save Feature-Engineered Data"
   ]
  },
  {
   "cell_type": "code",
   "execution_count": null,
   "id": "9fa11e70",
   "metadata": {
    "papermill": {
     "duration": null,
     "end_time": null,
     "exception": null,
     "start_time": null,
     "status": "pending"
    },
    "tags": []
   },
   "outputs": [],
   "source": [
    "output_path = f'../data/processed/iris_features_{dataset_version}.csv'\n",
    "df.to_csv(output_path, index=False)\n",
    "print(f'Saved feature engineered data to {output_path}')"
   ]
  },
  {
   "cell_type": "code",
   "execution_count": null,
   "id": "c887c854",
   "metadata": {
    "papermill": {
     "duration": null,
     "end_time": null,
     "exception": null,
     "start_time": null,
     "status": "pending"
    },
    "tags": []
   },
   "outputs": [],
   "source": [
    "end_logging()"
   ]
  }
 ],
 "metadata": {
  "kernelspec": {
   "display_name": "Python 3",
   "language": "python",
   "name": "python3"
  },
  "language_info": {
   "codemirror_mode": {
    "name": "ipython",
    "version": 3
   },
   "file_extension": ".py",
   "mimetype": "text/x-python",
   "name": "python",
   "nbconvert_exporter": "python",
   "pygments_lexer": "ipython3",
   "version": "3.11.3"
  },
  "papermill": {
   "default_parameters": {},
   "duration": 3.350874,
   "end_time": "2025-07-04T22:59:27.896019",
   "environment_variables": {},
   "exception": true,
   "input_path": "04_feature_engineering.ipynb",
   "output_path": "executed_notebooks/04_feature_engineering_original.ipynb",
   "parameters": {
    "dataset_version": "original"
   },
   "start_time": "2025-07-04T22:59:24.545145",
   "version": "2.6.0"
  }
 },
 "nbformat": 4,
 "nbformat_minor": 5
}
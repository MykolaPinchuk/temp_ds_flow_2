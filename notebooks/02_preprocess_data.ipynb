{
 "cells": [
  {
   "cell_type": "markdown",
   "metadata": {},
   "source": [
    "# 02 Preprocess Data\n",
    "\n",
    "This notebook reads the raw Iris data, cleans the column names, and saves the processed data."
   ]
  },
  {
   "cell_type": "code",
   "execution_count": 1,
   "metadata": {
    "execution": {
     "iopub.execute_input": "2025-07-03T23:02:13.958568Z",
     "iopub.status.busy": "2025-07-03T23:02:13.957615Z",
     "iopub.status.idle": "2025-07-03T23:02:15.324333Z",
     "shell.execute_reply": "2025-07-03T23:02:15.323586Z"
    }
   },
   "outputs": [],
   "source": [
    "import sys\n",
    "import os\n",
    "sys.path.append(os.path.abspath(os.path.join('..', 'src')))\n",
    "import pandas as pd\n",
    "from ds_logger import start_logging, end_logging\n",
    "\n",
    "notebook_description = \"Reads raw Iris data, cleans column names, and saves the processed data.\"\n",
    "start_logging(notebook_name='02_preprocess_data.ipynb', notebook_description=notebook_description)"
   ]
  },
  {
   "cell_type": "code",
   "execution_count": 2,
   "metadata": {
    "execution": {
     "iopub.execute_input": "2025-07-03T23:02:15.327423Z",
     "iopub.status.busy": "2025-07-03T23:02:15.327130Z",
     "iopub.status.idle": "2025-07-03T23:02:15.338491Z",
     "shell.execute_reply": "2025-07-03T23:02:15.337864Z"
    }
   },
   "outputs": [],
   "source": [
    "# Find the latest raw data file\n",
    "raw_data_dir = '../data/raw'\n",
    "latest_raw_file = max([os.path.join(raw_data_dir, f) for f in os.listdir(raw_data_dir) if f.startswith('iris') and f.endswith('.csv')], key=os.path.getctime)\n",
    "df = pd.read_csv(latest_raw_file)\n",
    "\n",
    "# Clean column names\n",
    "df.columns = df.columns.str.replace(' (cm)', '', regex=False).str.replace(' ', '_')\n",
    "\n",
    "# Save processed data\n",
    "processed_data_path = '../data/processed/iris_processed.csv'\n",
    "df.to_csv(processed_data_path, index=False)"
   ]
  },
  {
   "cell_type": "code",
   "execution_count": 3,
   "metadata": {
    "execution": {
     "iopub.execute_input": "2025-07-03T23:02:15.340833Z",
     "iopub.status.busy": "2025-07-03T23:02:15.340638Z",
     "iopub.status.idle": "2025-07-03T23:02:15.343840Z",
     "shell.execute_reply": "2025-07-03T23:02:15.343353Z"
    }
   },
   "outputs": [],
   "source": [
    "end_logging(results={'processed_rows': len(df), 'processed_columns': list(df.columns)})"
   ]
  }
 ],
 "metadata": {
  "kernelspec": {
   "display_name": "base",
   "language": "python",
   "name": "python3"
  },
  "language_info": {
   "codemirror_mode": {
    "name": "ipython",
    "version": 3
   },
   "file_extension": ".py",
   "mimetype": "text/x-python",
   "name": "python",
   "nbconvert_exporter": "python",
   "pygments_lexer": "ipython3",
   "version": "3.11.3"
  }
 },
 "nbformat": 4,
 "nbformat_minor": 4
}

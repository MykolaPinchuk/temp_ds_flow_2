{
 "cells": [
  {
   "cell_type": "markdown",
   "metadata": {},
   "source": [
    "# 04 Feature Engineering\n",
    "\n",
    "This notebook creates a new feature, 'sepal_area', and saves the updated dataset."
   ]
  },
  {
   "cell_type": "code",
   "execution_count": 1,
   "metadata": {
    "execution": {
     "iopub.execute_input": "2025-07-04T22:18:21.207511Z",
     "iopub.status.busy": "2025-07-04T22:18:21.206757Z",
     "iopub.status.idle": "2025-07-04T22:18:21.853557Z",
     "shell.execute_reply": "2025-07-04T22:18:21.852809Z"
    }
   },
   "outputs": [],
   "source": [
    "import sys\n",
    "import os\n",
    "sys.path.append(os.path.abspath(os.path.join('..', 'src')))\n",
    "import pandas as pd\n",
    "from ds_logger import start_logging, end_logging\n",
    "\n",
    "notebook_description = \"Creates a new feature, 'sepal_area', from the processed Iris data.\"\n",
    "start_logging(notebook_name='04_feature_engineering.ipynb', notebook_description=notebook_description)"
   ]
  },
  {
   "cell_type": "code",
   "execution_count": 2,
   "metadata": {
    "execution": {
     "iopub.execute_input": "2025-07-04T22:18:21.856181Z",
     "iopub.status.busy": "2025-07-04T22:18:21.855886Z",
     "iopub.status.idle": "2025-07-04T22:18:21.866056Z",
     "shell.execute_reply": "2025-07-04T22:18:21.865373Z"
    }
   },
   "outputs": [],
   "source": [
    "# Find the latest processed data file\n",
    "processed_data_dir = '../data/processed'\n",
    "latest_processed_file = max([os.path.join(processed_data_dir, f) for f in os.listdir(processed_data_dir) if f.startswith('iris_processed') and f.endswith('.csv')], key=os.path.getctime)\n",
    "df = pd.read_csv(latest_processed_file)\n",
    "\n",
    "# Create new feature\n",
    "df['sepal_area'] = df['sepal_length'] * df['sepal_width']\n",
    "\n",
    "# Save feature-engineered data\n",
    "features_path = '../data/processed/iris_features.csv'\n",
    "df.to_csv(features_path, index=False)"
   ]
  },
  {
   "cell_type": "code",
   "execution_count": 3,
   "metadata": {
    "execution": {
     "iopub.execute_input": "2025-07-04T22:18:21.868211Z",
     "iopub.status.busy": "2025-07-04T22:18:21.867979Z",
     "iopub.status.idle": "2025-07-04T22:18:21.871347Z",
     "shell.execute_reply": "2025-07-04T22:18:21.870781Z"
    }
   },
   "outputs": [],
   "source": [
    "end_logging(results={'features_created': ['sepal_area']})"
   ]
  }
 ],
 "metadata": {
  "kernelspec": {
   "display_name": "base",
   "language": "python",
   "name": "python3"
  },
  "language_info": {
   "codemirror_mode": {
    "name": "ipython",
    "version": 3
   },
   "file_extension": ".py",
   "mimetype": "text/x-python",
   "name": "python",
   "nbconvert_exporter": "python",
   "pygments_lexer": "ipython3",
   "version": "3.11.3"
  }
 },
 "nbformat": 4,
 "nbformat_minor": 4
}

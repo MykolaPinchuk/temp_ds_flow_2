{
 "cells": [
  {
   "cell_type": "markdown",
   "metadata": {},
   "source": [
    "# 04 Feature Engineering\n",
    "\n",
    "This notebook creates a new feature, 'sepal_area', and saves the updated dataset."
   ]
  },
  {
   "cell_type": "code",
   "execution_count": 4,
   "metadata": {
    "execution": {
     "iopub.execute_input": "2025-07-03T23:27:21.626126Z",
     "iopub.status.busy": "2025-07-03T23:27:21.625268Z",
     "iopub.status.idle": "2025-07-03T23:27:22.568351Z",
     "shell.execute_reply": "2025-07-03T23:27:22.567567Z"
    }
   },
   "outputs": [],
   "source": [
    "import sys\n",
    "import os\n",
    "sys.path.append(os.path.abspath(os.path.join('..', 'src')))\n",
    "import pandas as pd\n",
    "from ds_logger import start_logging, end_logging\n",
    "\n",
    "notebook_description = \"Creates a new feature, 'sepal_area', from the processed Iris data.\"\n",
    "start_logging(notebook_name='04_feature_engineering.ipynb', notebook_description=notebook_description)"
   ]
  },
  {
   "cell_type": "code",
   "execution_count": 5,
   "metadata": {
    "execution": {
     "iopub.execute_input": "2025-07-03T23:27:22.575191Z",
     "iopub.status.busy": "2025-07-03T23:27:22.574810Z",
     "iopub.status.idle": "2025-07-03T23:27:22.591017Z",
     "shell.execute_reply": "2025-07-03T23:27:22.590270Z"
    }
   },
   "outputs": [],
   "source": [
    "# Find the latest processed data file\n",
    "processed_data_dir = '../data/processed'\n",
    "latest_processed_file = max([os.path.join(processed_data_dir, f) for f in os.listdir(processed_data_dir) if f.startswith('iris_processed') and f.endswith('.csv')], key=os.path.getctime)\n",
    "df = pd.read_csv(latest_processed_file)\n",
    "\n",
    "# Create new feature\n",
    "df['sepal_area'] = df['sepal_length'] * df['sepal_width']\n",
    "\n",
    "# Save feature-engineered data\n",
    "features_path = '../data/processed/iris_features.csv'\n",
    "df.to_csv(features_path, index=False)"
   ]
  },
  {
   "cell_type": "code",
   "execution_count": 6,
   "metadata": {
    "execution": {
     "iopub.execute_input": "2025-07-03T23:27:22.594555Z",
     "iopub.status.busy": "2025-07-03T23:27:22.593962Z",
     "iopub.status.idle": "2025-07-03T23:27:22.597688Z",
     "shell.execute_reply": "2025-07-03T23:27:22.597056Z"
    }
   },
   "outputs": [],
   "source": [
    "end_logging(results={'features_created': ['sepal_area']})"
   ]
  }
 ],
 "metadata": {
  "kernelspec": {
   "display_name": "base",
   "language": "python",
   "name": "python3"
  },
  "language_info": {
   "codemirror_mode": {
    "name": "ipython",
    "version": 3
   },
   "file_extension": ".py",
   "mimetype": "text/x-python",
   "name": "python",
   "nbconvert_exporter": "python",
   "pygments_lexer": "ipython3",
   "version": "3.11.3"
  }
 },
 "nbformat": 4,
 "nbformat_minor": 4
}

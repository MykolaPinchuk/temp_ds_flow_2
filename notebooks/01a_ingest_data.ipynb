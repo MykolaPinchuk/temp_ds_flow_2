{
 "cells": [
  {
   "cell_type": "markdown",
   "metadata": {},
   "source": [
    "# 01a Ingest Data (Original)\n",
    "This notebook loads the original Iris dataset from scikit-learn and saves it as the raw data source for the baseline experiment."
   ]
  },
  {
   "cell_type": "code",
   "execution_count": 1,
   "metadata": {
    "execution": {
     "iopub.execute_input": "2025-07-04T22:16:38.832221Z",
     "iopub.status.busy": "2025-07-04T22:16:38.831804Z",
     "iopub.status.idle": "2025-07-04T22:16:39.817109Z",
     "shell.execute_reply": "2025-07-04T22:16:39.816335Z"
    }
   },
   "outputs": [],
   "source": [
    "import sys\n",
    "import os\n",
    "sys.path.append(os.path.abspath(os.path.join('..', 'src')))\n",
    "import pandas as pd\n",
    "from sklearn.datasets import load_iris\n",
    "from ds_logger import start_logging, end_logging\n",
    "\n",
    "notebook_description = \"Loads the original Iris dataset and saves it to the raw data directory for experiment A.\"\n",
    "start_logging(notebook_name='01a_ingest_data.ipynb', notebook_description=notebook_description)"
   ]
  },
  {
   "cell_type": "code",
   "execution_count": 2,
   "metadata": {
    "execution": {
     "iopub.execute_input": "2025-07-04T22:16:39.819584Z",
     "iopub.status.busy": "2025-07-04T22:16:39.819263Z",
     "iopub.status.idle": "2025-07-04T22:16:39.829067Z",
     "shell.execute_reply": "2025-07-04T22:16:39.828360Z"
    }
   },
   "outputs": [],
   "source": [
    "# Load Iris dataset\n",
    "iris = load_iris()\n",
    "df = pd.DataFrame(data=iris.data, columns=iris.feature_names)\n",
    "df['target'] = iris.target\n",
    "\n",
    "# Save raw data\n",
    "raw_data_path = '../data/raw/iris_raw_a.csv'\n",
    "df.to_csv(raw_data_path, index=False)"
   ]
  },
  {
   "cell_type": "code",
   "execution_count": 3,
   "metadata": {
    "execution": {
     "iopub.execute_input": "2025-07-04T22:16:39.831381Z",
     "iopub.status.busy": "2025-07-04T22:16:39.831125Z",
     "iopub.status.idle": "2025-07-04T22:16:39.835030Z",
     "shell.execute_reply": "2025-07-04T22:16:39.834490Z"
    }
   },
   "outputs": [],
   "source": [
    "end_logging(results={'rows_ingested': len(df)})"
   ]
  }
 ],
 "metadata": {
  "kernelspec": {
   "display_name": "base",
   "language": "python",
   "name": "python3"
  },
  "language_info": {
   "codemirror_mode": {
    "name": "ipython",
    "version": 3
   },
   "file_extension": ".py",
   "mimetype": "text/x-python",
   "name": "python",
   "nbconvert_exporter": "python",
   "pygments_lexer": "ipython3",
   "version": "3.11.3"
  }
 },
 "nbformat": 4,
 "nbformat_minor": 4
}

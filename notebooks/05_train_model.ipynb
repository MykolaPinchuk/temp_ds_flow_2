{
 "cells": [
  {
   "cell_type": "markdown",
   "metadata": {},
   "source": [
    "# 05 Train Model\n",
    "\n",
    "This notebook trains a logistic regression model on the feature-engineered Iris data and saves the model."
   ]
  },
  {
   "cell_type": "code",
   "execution_count": 7,
   "metadata": {
    "execution": {
     "iopub.execute_input": "2025-07-03T23:29:28.130549Z",
     "iopub.status.busy": "2025-07-03T23:29:28.130299Z",
     "iopub.status.idle": "2025-07-03T23:29:29.331450Z",
     "shell.execute_reply": "2025-07-03T23:29:29.330810Z"
    }
   },
   "outputs": [],
   "source": [
    "import sys\n",
    "import os\n",
    "sys.path.append(os.path.abspath(os.path.join('..', 'src')))\n",
    "import pandas as pd\n",
    "from sklearn.model_selection import train_test_split\n",
    "from sklearn.linear_model import LogisticRegression\n",
    "import joblib\n",
    "from ds_logger import start_logging, end_logging\n",
    "\n",
    "notebook_description = \"Trains a logistic regression model and saves it.\"\n",
    "start_logging(notebook_name='05_train_model.ipynb', notebook_description=notebook_description)"
   ]
  },
  {
   "cell_type": "code",
   "execution_count": 8,
   "metadata": {
    "execution": {
     "iopub.execute_input": "2025-07-03T23:29:29.334311Z",
     "iopub.status.busy": "2025-07-03T23:29:29.333973Z",
     "iopub.status.idle": "2025-07-03T23:29:29.388105Z",
     "shell.execute_reply": "2025-07-03T23:29:29.387390Z"
    }
   },
   "outputs": [
    {
     "name": "stderr",
     "output_type": "stream",
     "text": [
      "/home/mykola/anaconda3/lib/python3.11/site-packages/sklearn/linear_model/_logistic.py:458: ConvergenceWarning: lbfgs failed to converge (status=1):\n",
      "STOP: TOTAL NO. of ITERATIONS REACHED LIMIT.\n",
      "\n",
      "Increase the number of iterations (max_iter) or scale the data as shown in:\n",
      "    https://scikit-learn.org/stable/modules/preprocessing.html\n",
      "Please also refer to the documentation for alternative solver options:\n",
      "    https://scikit-learn.org/stable/modules/linear_model.html#logistic-regression\n",
      "  n_iter_i = _check_optimize_result(\n"
     ]
    },
    {
     "data": {
      "text/plain": [
       "['../models/iris_model_20250703_170738.joblib']"
      ]
     },
     "execution_count": 8,
     "metadata": {},
     "output_type": "execute_result"
    }
   ],
   "source": [
    "# Find the latest feature data file\n",
    "processed_data_dir = '../data/processed'\n",
    "latest_feature_file = max([os.path.join(processed_data_dir, f) for f in os.listdir(processed_data_dir) if f.startswith('iris_features') and f.endswith('.csv')], key=os.path.getctime)\n",
    "df = pd.read_csv(latest_feature_file)\n",
    "\n",
    "# Prepare data for modeling\n",
    "X = df.drop('target', axis=1)\n",
    "y = df['target']\n",
    "X_train, X_test, y_train, y_test = train_test_split(X, y, test_size=0.2, random_state=42)\n",
    "\n",
    "# Train model\n",
    "model = LogisticRegression(max_iter=200)\n",
    "model.fit(X_train, y_train)\n",
    "\n",
    "# Save model\n",
    "model_path = '../models/iris_model.joblib'\n",
    "joblib.dump(model, model_path)"
   ]
  },
  {
   "cell_type": "code",
   "execution_count": 9,
   "metadata": {
    "execution": {
     "iopub.execute_input": "2025-07-03T23:29:29.425115Z",
     "iopub.status.busy": "2025-07-03T23:29:29.424864Z",
     "iopub.status.idle": "2025-07-03T23:29:29.429026Z",
     "shell.execute_reply": "2025-07-03T23:29:29.428533Z"
    }
   },
   "outputs": [],
   "source": [
    "end_logging(results={'model_type': 'LogisticRegression', 'test_size': 0.2})"
   ]
  }
 ],
 "metadata": {
  "kernelspec": {
   "display_name": "base",
   "language": "python",
   "name": "python3"
  },
  "language_info": {
   "codemirror_mode": {
    "name": "ipython",
    "version": 3
   },
   "file_extension": ".py",
   "mimetype": "text/x-python",
   "name": "python",
   "nbconvert_exporter": "python",
   "pygments_lexer": "ipython3",
   "version": "3.11.3"
  }
 },
 "nbformat": 4,
 "nbformat_minor": 4
}

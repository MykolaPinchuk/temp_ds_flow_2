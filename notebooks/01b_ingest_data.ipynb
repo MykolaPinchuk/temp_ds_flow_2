{
 "cells": [
  {
   "cell_type": "markdown",
   "metadata": {},
   "source": [
    "# 01b Ingest Data (New Data Simulation)\n",
    "This notebook simulates receiving 50% more data and saves it as the raw data source for experiment B."
   ]
  },
  {
   "cell_type": "code",
   "execution_count": 1,
   "metadata": {
    "execution": {
     "iopub.execute_input": "2025-07-04T22:16:47.375322Z",
     "iopub.status.busy": "2025-07-04T22:16:47.374919Z",
     "iopub.status.idle": "2025-07-04T22:16:48.369717Z",
     "shell.execute_reply": "2025-07-04T22:16:48.368996Z"
    }
   },
   "outputs": [],
   "source": [
    "import sys\n",
    "import os\n",
    "sys.path.append(os.path.abspath(os.path.join('..', 'src')))\n",
    "import pandas as pd\n",
    "from sklearn.datasets import load_iris\n",
    "from ds_logger import start_logging, end_logging\n",
    "\n",
    "notebook_description = \"Simulates receiving 50% more data and saves it to the raw data directory for experiment B.\"\n",
    "start_logging(notebook_name='01b_ingest_data.ipynb', notebook_description=notebook_description)"
   ]
  },
  {
   "cell_type": "code",
   "execution_count": 2,
   "metadata": {
    "execution": {
     "iopub.execute_input": "2025-07-04T22:16:48.372053Z",
     "iopub.status.busy": "2025-07-04T22:16:48.371750Z",
     "iopub.status.idle": "2025-07-04T22:16:48.383137Z",
     "shell.execute_reply": "2025-07-04T22:16:48.382233Z"
    }
   },
   "outputs": [],
   "source": [
    "# Load Iris dataset\n",
    "iris = load_iris()\n",
    "original_df = pd.DataFrame(data=iris.data, columns=iris.feature_names)\n",
    "original_df['target'] = iris.target\n",
    "\n",
    "# Simulate receiving 50% more data by sampling from the original data\n",
    "new_samples_count = int(len(original_df) * 0.5)\n",
    "new_samples_df = original_df.sample(n=new_samples_count, replace=True, random_state=42)\n",
    "\n",
    "# Concatenate original data with new data\n",
    "df = pd.concat([original_df, new_samples_df], ignore_index=True)\n",
    "\n",
    "# Save raw data\n",
    "raw_data_path = '../data/raw/iris_raw_b.csv'\n",
    "df.to_csv(raw_data_path, index=False)"
   ]
  },
  {
   "cell_type": "code",
   "execution_count": 3,
   "metadata": {
    "execution": {
     "iopub.execute_input": "2025-07-04T22:16:48.386927Z",
     "iopub.status.busy": "2025-07-04T22:16:48.386561Z",
     "iopub.status.idle": "2025-07-04T22:16:48.391930Z",
     "shell.execute_reply": "2025-07-04T22:16:48.391093Z"
    }
   },
   "outputs": [],
   "source": [
    "end_logging(results={'rows_ingested': len(df)})"
   ]
  }
 ],
 "metadata": {
  "kernelspec": {
   "display_name": "base",
   "language": "python",
   "name": "python3"
  },
  "language_info": {
   "codemirror_mode": {
    "name": "ipython",
    "version": 3
   },
   "file_extension": ".py",
   "mimetype": "text/x-python",
   "name": "python",
   "nbconvert_exporter": "python",
   "pygments_lexer": "ipython3",
   "version": "3.10.12"
  }
 },
 "nbformat": 4,
 "nbformat_minor": 4
}

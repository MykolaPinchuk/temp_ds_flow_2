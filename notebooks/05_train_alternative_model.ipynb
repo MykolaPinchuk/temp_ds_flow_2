{
 "cells": [
  {
   "cell_type": "markdown",
   "metadata": {},
   "source": [
    "# 05 Train Alternative Models\n",
    "\n",
    "This notebook trains and compares a Logistic Regression and a Random Forest model."
   ]
  },
  {
   "cell_type": "code",
   "execution_count": 13,
   "metadata": {
    "execution": {
     "iopub.execute_input": "2025-07-04T22:18:40.574689Z",
     "iopub.status.busy": "2025-07-04T22:18:40.574230Z",
     "iopub.status.idle": "2025-07-04T22:18:41.551745Z",
     "shell.execute_reply": "2025-07-04T22:18:41.550890Z"
    }
   },
   "outputs": [],
   "source": [
    "import sys\n",
    "import os\n",
    "sys.path.append(os.path.abspath(os.path.join('..', 'src')))\n",
    "import pandas as pd\n",
    "from sklearn.model_selection import train_test_split\n",
    "from sklearn.linear_model import LogisticRegression\n",
    "from sklearn.ensemble import RandomForestClassifier\n",
    "from sklearn.metrics import accuracy_score\n",
    "import joblib\n",
    "from ds_logger import start_logging, end_logging\n",
    "\n",
    "notebook_description = \"Trains and compares Logistic Regression and Random Forest models.\"\n",
    "start_logging(notebook_name='05_train_alternative_model.ipynb', notebook_description=notebook_description)"
   ]
  },
  {
   "cell_type": "code",
   "execution_count": 14,
   "metadata": {
    "execution": {
     "iopub.execute_input": "2025-07-04T22:18:41.554565Z",
     "iopub.status.busy": "2025-07-04T22:18:41.554168Z",
     "iopub.status.idle": "2025-07-04T22:18:41.564018Z",
     "shell.execute_reply": "2025-07-04T22:18:41.563059Z"
    }
   },
   "outputs": [],
   "source": [
    "# Find the latest feature data file\n",
    "processed_data_dir = '../data/processed'\n",
    "latest_feature_file = max([os.path.join(processed_data_dir, f) for f in os.listdir(processed_data_dir) if f.startswith('iris_features') and f.endswith('.csv')], key=os.path.getctime)\n",
    "df = pd.read_csv(latest_feature_file)\n",
    "\n",
    "# Prepare data for modeling\n",
    "X = df.drop('target', axis=1)\n",
    "y = df['target']\n",
    "X_train, X_test, y_train, y_test = train_test_split(X, y, test_size=0.2, random_state=42)"
   ]
  },
  {
   "cell_type": "code",
   "execution_count": 15,
   "metadata": {
    "execution": {
     "iopub.execute_input": "2025-07-04T22:18:41.566509Z",
     "iopub.status.busy": "2025-07-04T22:18:41.566258Z",
     "iopub.status.idle": "2025-07-04T22:18:41.842201Z",
     "shell.execute_reply": "2025-07-04T22:18:41.841428Z"
    }
   },
   "outputs": [
    {
     "name": "stderr",
     "output_type": "stream",
     "text": [
      "/home/mykola/anaconda3/lib/python3.11/site-packages/sklearn/linear_model/_logistic.py:458: ConvergenceWarning: lbfgs failed to converge (status=1):\n",
      "STOP: TOTAL NO. of ITERATIONS REACHED LIMIT.\n",
      "\n",
      "Increase the number of iterations (max_iter) or scale the data as shown in:\n",
      "    https://scikit-learn.org/stable/modules/preprocessing.html\n",
      "Please also refer to the documentation for alternative solver options:\n",
      "    https://scikit-learn.org/stable/modules/linear_model.html#logistic-regression\n",
      "  n_iter_i = _check_optimize_result(\n"
     ]
    },
    {
     "data": {
      "text/plain": [
       "['../models/iris_random_forest_20250704_1529.joblib']"
      ]
     },
     "execution_count": 15,
     "metadata": {},
     "output_type": "execute_result"
    }
   ],
   "source": [
    "# Train and evaluate Logistic Regression\n",
    "lr_model = LogisticRegression(max_iter=200)\n",
    "lr_model.fit(X_train, y_train)\n",
    "lr_preds = lr_model.predict(X_test)\n",
    "lr_accuracy = accuracy_score(y_test, lr_preds)\n",
    "joblib.dump(lr_model, '../models/iris_log_reg.joblib')\n",
    "\n",
    "# Train and evaluate Random Forest\n",
    "rf_model = RandomForestClassifier(n_estimators=100, random_state=42)\n",
    "rf_model.fit(X_train, y_train)\n",
    "rf_preds = rf_model.predict(X_test)\n",
    "rf_accuracy = accuracy_score(y_test, rf_preds)\n",
    "joblib.dump(rf_model, '../models/iris_random_forest.joblib')"
   ]
  },
  {
   "cell_type": "code",
   "execution_count": 16,
   "metadata": {
    "execution": {
     "iopub.execute_input": "2025-07-04T22:18:41.870052Z",
     "iopub.status.busy": "2025-07-04T22:18:41.869811Z",
     "iopub.status.idle": "2025-07-04T22:18:41.873816Z",
     "shell.execute_reply": "2025-07-04T22:18:41.873261Z"
    }
   },
   "outputs": [],
   "source": [
    "results = {\n",
    "    'logistic_regression': {\n",
    "        'hyperparameters': lr_model.get_params(),\n",
    "        'accuracy': lr_accuracy\n",
    "    },\n",
    "    'random_forest': {\n",
    "        'hyperparameters': rf_model.get_params(),\n",
    "        'accuracy': rf_accuracy\n",
    "    }\n",
    "}\n",
    "end_logging(results=results)"
   ]
  }
 ],
 "metadata": {
  "kernelspec": {
   "display_name": "base",
   "language": "python",
   "name": "python3"
  },
  "language_info": {
   "codemirror_mode": {
    "name": "ipython",
    "version": 3
   },
   "file_extension": ".py",
   "mimetype": "text/x-python",
   "name": "python",
   "nbconvert_exporter": "python",
   "pygments_lexer": "ipython3",
   "version": "3.10.12"
  }
 },
 "nbformat": 4,
 "nbformat_minor": 4
}

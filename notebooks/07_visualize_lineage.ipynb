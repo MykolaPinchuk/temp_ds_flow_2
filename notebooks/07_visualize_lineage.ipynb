{
 "cells": [
  {
   "cell_type": "markdown",
   "metadata": {},
   "source": [
    "# 07 Visualize Lineage\n",
    "\n",
    "This notebook scans the log files to build and visualize a Directed Acyclic Graph (DAG) of the entire data science pipeline."
   ]
  },
  {
   "cell_type": "code",
   "execution_count": 1,
   "metadata": {},
   "outputs": [],
   "source": [
    "import sys\n",
    "import os\n",
    "sys.path.append(os.path.abspath(os.path.join('..', 'src')))\n",
    "import re\n",
    "from graphviz import Digraph\n",
    "from ds_logger import start_logging, end_logging\n",
    "\n",
    "notebook_description = \"Visualizes the project's data and notebook lineage as a DAG.\"\n",
    "start_logging(notebook_name='07_visualize_lineage.ipynb', notebook_description=notebook_description)"
   ]
  },
  {
   "cell_type": "code",
   "execution_count": 2,
   "metadata": {},
   "outputs": [
    {
     "name": "stdout",
     "output_type": "stream",
     "text": [
      "Lineage graph saved to ../reports/pipeline_lineage.png\n"
     ]
    }
   ],
   "source": [
    "def parse_logs_for_lineage(log_dir):\n",
    "    edges = set()\n",
    "    log_files = [os.path.join(log_dir, f) for f in os.listdir(log_dir) if f.endswith('.log')]\n",
    "    \n",
    "    for log_file in log_files:\n",
    "        notebook_name = os.path.basename(log_file).split('_')[0] + '.ipynb'\n",
    "        with open(log_file, 'r') as f:\n",
    "            for line in f:\n",
    "                if 'FILE_READ' in line:\n",
    "                    match = re.search(r'FILE_READ: (.*)', line)\n",
    "                    if match:\n",
    "                        filepath = os.path.basename(match.group(1))\n",
    "                        edges.add((filepath, notebook_name))\n",
    "                elif 'FILE_WRITTEN' in line:\n",
    "                    match = re.search(r'FILE_WRITTEN: (.*)', line)\n",
    "                    if match:\n",
    "                        filepath = os.path.basename(match.group(1))\n",
    "                        edges.add((notebook_name, filepath))\n",
    "    return edges\n",
    "\n",
    "def visualize_lineage(edges, output_path):\n",
    "    dot = Digraph(comment='Data Science Pipeline')\n",
    "    nodes = set()\n",
    "    for start, end in edges:\n",
    "        nodes.add(start)\n",
    "        nodes.add(end)\n",
    "    \n",
    "    for node in nodes:\n",
    "        if '.ipynb' in node:\n",
    "            dot.node(node, shape='box', style='rounded,filled', fillcolor='lightblue')\n",
    "        else:\n",
    "            dot.node(node, shape='ellipse', style='filled', fillcolor='lightgrey')\n",
    "            \n",
    "    for start, end in edges:\n",
    "        dot.edge(start, end)\n",
    "        \n",
    "    dot.render(output_path, format='png', cleanup=True)\n",
    "    print(f'Lineage graph saved to {output_path}.png')\n",
    "\n",
    "log_directory = '../logs'\n",
    "lineage_edges = parse_logs_for_lineage(log_directory)\n",
    "graph_output_path = '../reports/pipeline_lineage'\n",
    "visualize_lineage(lineage_edges, graph_output_path)"
   ]
  },
  {
   "cell_type": "code",
   "execution_count": 3,
   "metadata": {},
   "outputs": [],
   "source": [
    "end_logging(results={'graph_generated': 'pipeline_lineage.png'})"
   ]
  }
 ],
 "metadata": {
  "kernelspec": {
   "display_name": "base",
   "language": "python",
   "name": "python3"
  },
  "language_info": {
   "codemirror_mode": {
    "name": "ipython",
    "version": 3
   },
   "file_extension": ".py",
   "mimetype": "text/x-python",
   "name": "python",
   "nbconvert_exporter": "python",
   "pygments_lexer": "ipython3",
   "version": "3.11.3"
  }
 },
 "nbformat": 4,
 "nbformat_minor": 4
}

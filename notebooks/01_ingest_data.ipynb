{
 "cells": [
  {
   "cell_type": "markdown",
   "metadata": {},
   "source": [
    "# 01 Ingest Data\n",
    "\n",
    "This notebook loads the Iris dataset from scikit-learn and saves it as the raw data source."
   ]
  },
  {
   "cell_type": "code",
   "execution_count": 1,
   "metadata": {
    "execution": {
     "iopub.execute_input": "2025-07-03T23:29:16.976196Z",
     "iopub.status.busy": "2025-07-03T23:29:16.975998Z",
     "iopub.status.idle": "2025-07-03T23:29:18.168251Z",
     "shell.execute_reply": "2025-07-03T23:29:18.167676Z"
    }
   },
   "outputs": [],
   "source": [
    "import sys\n",
    "import os\n",
    "sys.path.append(os.path.abspath(os.path.join('..', 'src')))\n",
    "import pandas as pd\n",
    "from sklearn.datasets import load_iris\n",
    "from ds_logger import start_logging, end_logging\n",
    "\n",
    "notebook_description = \"Loads the Iris dataset and saves it to the raw data directory.\"\n",
    "start_logging(notebook_name='01_ingest_data.ipynb', notebook_description=notebook_description)"
   ]
  },
  {
   "cell_type": "code",
   "execution_count": 2,
   "metadata": {
    "execution": {
     "iopub.execute_input": "2025-07-03T23:29:18.171737Z",
     "iopub.status.busy": "2025-07-03T23:29:18.171298Z",
     "iopub.status.idle": "2025-07-03T23:29:18.180266Z",
     "shell.execute_reply": "2025-07-03T23:29:18.179662Z"
    }
   },
   "outputs": [],
   "source": [
    "# Load Iris dataset\n",
    "iris = load_iris()\n",
    "df = pd.DataFrame(data=iris.data, columns=iris.feature_names)\n",
    "df['target'] = iris.target\n",
    "\n",
    "# Save raw data\n",
    "raw_data_path = '../data/raw/iris.csv'\n",
    "df.to_csv(raw_data_path, index=False)"
   ]
  },
  {
   "cell_type": "code",
   "execution_count": 3,
   "metadata": {
    "execution": {
     "iopub.execute_input": "2025-07-03T23:29:18.183780Z",
     "iopub.status.busy": "2025-07-03T23:29:18.183388Z",
     "iopub.status.idle": "2025-07-03T23:29:18.186861Z",
     "shell.execute_reply": "2025-07-03T23:29:18.186203Z"
    }
   },
   "outputs": [],
   "source": [
    "end_logging(results={'rows_ingested': len(df)})"
   ]
  }
 ],
 "metadata": {
  "kernelspec": {
   "display_name": "base",
   "language": "python",
   "name": "python3"
  },
  "language_info": {
   "codemirror_mode": {
    "name": "ipython",
    "version": 3
   },
   "file_extension": ".py",
   "mimetype": "text/x-python",
   "name": "python",
   "nbconvert_exporter": "python",
   "pygments_lexer": "ipython3",
   "version": "3.11.3"
  }
 },
 "nbformat": 4,
 "nbformat_minor": 4
}

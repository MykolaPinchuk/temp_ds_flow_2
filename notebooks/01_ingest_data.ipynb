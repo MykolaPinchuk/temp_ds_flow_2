{
 "cells": [
  {
   "cell_type": "markdown",
   "metadata": {},
   "source": [
    "# 01 Ingest Data\n",
    "This notebook loads the Iris dataset from scikit-learn and saves it as the raw data source. It can be parameterized to generate either the original dataset or a simulated dataset with 50% more data."
   ]
  },
  {
   "cell_type": "code",
   "execution_count": null,
   "metadata": {
    "tags": [
     "parameters"
    ]
   },
   "outputs": [],
   "source": [
    "# Parameters for papermill\n",
    "# This cell is tagged as 'parameters'\n",
    "# Default to 'original' if not provided\n",
    "dataset_version = 'original' # 'original' or 'simulated'"
   ]
  },
  {
   "cell_type": "code",
   "execution_count": null,
   "metadata": {},
   "outputs": [],
   "source": [
    "import sys\n",
    "import os\n",
    "sys.path.append(os.path.abspath(os.path.join('..', 'src')))\n",
    "import pandas as pd\n",
    "from sklearn.datasets import load_iris\n",
    "from ds_logger import start_logging, end_logging\n",
    "\n",
    "notebook_description = f\"Loads the {dataset_version} Iris dataset and saves it to the raw data directory.\"\n",
    "start_logging(notebook_name=f'01_ingest_data_{dataset_version}.ipynb', notebook_description=notebook_description)"
   ]
  },
  {
   "cell_type": "code",
   "execution_count": null,
   "metadata": {},
   "outputs": [],
   "source": [
    "# Load Iris dataset\n",
    "iris = load_iris()\n",
    "original_df = pd.DataFrame(data=iris.data, columns=iris.feature_names)\n",
    "original_df['target'] = iris.target\n",
    "\n",
    "if dataset_version == 'simulated':\n",
    "    # Simulate receiving 50% more data by sampling from the original data\n",
    "    new_samples_count = int(len(original_df) * 0.5)\n",
    "    new_samples_df = original_df.sample(n=new_samples_count, replace=True, random_state=42)\n",
    "    df = pd.concat([original_df, new_samples_df], ignore_index=True)\n",
    "    raw_data_path = '../data/raw/iris_raw_simulated.csv'\n",
    "else: # 'original'\n",
    "    df = original_df\n",
    "    raw_data_path = '../data/raw/iris_raw_original.csv'\n",
    "\n",
    "# Save raw data\n",
    "df.to_csv(raw_data_path, index=False)"
   ]
  },
  {
   "cell_type": "code",
   "execution_count": null,
   "metadata": {},
   "outputs": [],
   "source": [
    "end_logging(results={'rows_ingested': len(df), 'dataset_version': dataset_version})"
   ]
  }
 ],
 "metadata": {
  "kernelspec": {
   "display_name": "base",
   "language": "python",
   "name": "python3"
  },
  "language_info": {
   "codemirror_mode": {
    "name": "ipython",
    "version": 3
   },
   "file_extension": ".py",
   "mimetype": "text/x-python",
   "name": "python",
   "nbconvert_exporter": "python",
   "pygments_lexer": "ipython3",
   "version": "3.11.3"
  }
 },
 "nbformat": 4,
 "nbformat_minor": 4
}
